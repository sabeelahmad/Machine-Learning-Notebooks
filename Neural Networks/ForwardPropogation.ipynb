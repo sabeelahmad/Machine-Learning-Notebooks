{
 "cells": [
  {
   "cell_type": "markdown",
   "metadata": {},
   "source": [
    "## Forward Propogation in Neural Networks"
   ]
  },
  {
   "cell_type": "code",
   "execution_count": 21,
   "metadata": {},
   "outputs": [],
   "source": [
    "import numpy as np"
   ]
  },
  {
   "cell_type": "code",
   "execution_count": 22,
   "metadata": {},
   "outputs": [
    {
     "data": {
      "text/plain": [
       "((4, 2), (4, 1))"
      ]
     },
     "execution_count": 22,
     "metadata": {},
     "output_type": "execute_result"
    }
   ],
   "source": [
    "X = np.array([[0,0],[0,1],[1,0],[1,1]]) # AND Function\n",
    "Y = np.array([[0,0,0,1]]).T\n",
    "X.shape, Y.shape"
   ]
  },
  {
   "cell_type": "code",
   "execution_count": 23,
   "metadata": {},
   "outputs": [],
   "source": [
    "def sig(z):\n",
    "    return 1/(1 + np.exp(-z))"
   ]
  },
  {
   "cell_type": "code",
   "execution_count": 24,
   "metadata": {},
   "outputs": [],
   "source": [
    "def derivativeSig(z):\n",
    "    return sig(z)*[1 - sig(z)]"
   ]
  },
  {
   "cell_type": "code",
   "execution_count": 40,
   "metadata": {},
   "outputs": [
    {
     "data": {
      "text/plain": [
       "(array([[-0.46188229],\n",
       "        [-0.23194813]]), array([-0.65734896]))"
      ]
     },
     "execution_count": 40,
     "metadata": {},
     "output_type": "execute_result"
    }
   ],
   "source": [
    "# Initialize weights\n",
    "# Only 1 output layer, no hidden layer\n",
    "weights = 2 * np.random.random((2, 1)) - 1 # w1 and w2 bw -1 and 1\n",
    "bias = 2 * np.random.random(1) - 1\n",
    "lr = 0.1\n",
    "weights, bias"
   ]
  },
  {
   "cell_type": "code",
   "execution_count": 41,
   "metadata": {},
   "outputs": [
    {
     "data": {
      "text/plain": [
       "(array([[5.47522617],\n",
       "        [5.47522617]]), array([-8.30555005]), array([[2.47080303e-04],\n",
       "        [5.57073582e-02],\n",
       "        [5.57073580e-02],\n",
       "        [9.33696100e-01]]))"
      ]
     },
     "execution_count": 41,
     "metadata": {},
     "output_type": "execute_result"
    }
   ],
   "source": [
    "for iter in range(10000):\n",
    "    output0 = X\n",
    "    # Calculate the output using sigmoid as activation function\n",
    "    # sigmoid(weights*x matrix plus the bias)\n",
    "    output = sig(np.dot(output0, weights) + bias)\n",
    "\n",
    "    # Once we have the output we do back prop\n",
    "    first_term = output - Y # Explained by sir in video\n",
    "    input_for_last_layer = np.dot(output0, weights) + bias\n",
    "    second_term = derivativeSig(input_for_last_layer)\n",
    "    first_two = first_term * second_term\n",
    "    first_two = first_two.reshape(4,1)\n",
    "    #print(first_two.shape, first_two)\n",
    "\n",
    "    changes = np.array([[0.0], [0.0]])\n",
    "\n",
    "    # Multiply 3rd part of derivative to the first_two\n",
    "    for i in range(2):\n",
    "        for j in range(4):\n",
    "            changes[i][0] += first_two[j][0] * output0[j][i]\n",
    "\n",
    "    # Update weights\n",
    "    weights = weights - lr*changes\n",
    "    bias_change = 0.0\n",
    "    for j in range(4):\n",
    "        bias_change += first_two[j][0] * 1\n",
    "    bias = bias - lr * bias_change\n",
    "\n",
    "output = sig(np.dot(X, weights) + bias)\n",
    "weights, bias, output"
   ]
  },
  {
   "cell_type": "code",
   "execution_count": 42,
   "metadata": {},
   "outputs": [
    {
     "data": {
      "text/plain": [
       "(array([[6.27142802],\n",
       "        [6.27142802]]), array([-9.49696315]), array([[7.50738529e-05],\n",
       "        [3.82160181e-02],\n",
       "        [3.82160181e-02],\n",
       "        [9.54604880e-01]]))"
      ]
     },
     "execution_count": 42,
     "metadata": {},
     "output_type": "execute_result"
    }
   ],
   "source": [
    "# VECTORIZED\n",
    "for iter in range(10000):\n",
    "    output0 = X\n",
    "    # Calculate the output using sigmoid as activation function\n",
    "    # sigmoid(weights*x matrix plus the bias)\n",
    "    output = sig(np.dot(output0, weights) + bias)\n",
    "\n",
    "    # Once we have the output we do back prop\n",
    "    first_term = output - Y # Explained by sir in video\n",
    "    input_for_last_layer = np.dot(output0, weights) + bias\n",
    "    second_term = derivativeSig(input_for_last_layer)\n",
    "    first_two = first_term * second_term\n",
    "    first_two = first_two.reshape(4,1)\n",
    "    #print(first_two.shape, first_two)\n",
    "\n",
    "    changes = np.dot(output0.T, first_two)\n",
    "    # Update weights\n",
    "    weights = weights - lr*changes\n",
    "    bias_change = np.sum(first_two)\n",
    "    bias = bias - lr * bias_change\n",
    "\n",
    "output = sig(np.dot(X, weights) + bias)\n",
    "weights, bias, output"
   ]
  },
  {
   "cell_type": "markdown",
   "metadata": {},
   "source": [
    "## 1 Hidden Layer with 2 units"
   ]
  },
  {
   "cell_type": "code",
   "execution_count": 11,
   "metadata": {},
   "outputs": [],
   "source": [
    "weights_hidden = 2 * np.random.random((2, 2)) - 1 \n",
    "biases_hidden = 2 * np.random.random((1, 2)) - 1\n",
    "weights_output = 2 * np.random.random((2 , 1)) - 1\n",
    "bias_output = np.random.random((1, 1)) - 1"
   ]
  },
  {
   "cell_type": "code",
   "execution_count": 12,
   "metadata": {},
   "outputs": [
    {
     "data": {
      "text/plain": [
       "array([[0.62256208],\n",
       "       [0.65861304],\n",
       "       [0.58432247],\n",
       "       [0.62099819]])"
      ]
     },
     "execution_count": 12,
     "metadata": {},
     "output_type": "execute_result"
    }
   ],
   "source": [
    "output0 = X\n",
    "outputHidden = sig(np.dot(output0, weights_hidden) + biases_hidden)\n",
    "output = sig(np.dot(outputHidden, weights_output) + bias_output)\n",
    "output"
   ]
  }
 ],
 "metadata": {
  "kernelspec": {
   "display_name": "Python 3",
   "language": "python",
   "name": "python3"
  },
  "language_info": {
   "codemirror_mode": {
    "name": "ipython",
    "version": 3
   },
   "file_extension": ".py",
   "mimetype": "text/x-python",
   "name": "python",
   "nbconvert_exporter": "python",
   "pygments_lexer": "ipython3",
   "version": "3.7.1"
  }
 },
 "nbformat": 4,
 "nbformat_minor": 2
}
