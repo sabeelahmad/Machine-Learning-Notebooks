{
 "cells": [
  {
   "cell_type": "markdown",
   "metadata": {},
   "source": [
    "## SVM In SKLearn\n",
    "In this notebook we will see how to use SKLearn's inbuilt SVM algorithm to classify our dataset.\n",
    "\n",
    "We will plot the dummy data and look at the decision boundary created."
   ]
  },
  {
   "cell_type": "code",
   "execution_count": 2,
   "metadata": {},
   "outputs": [],
   "source": [
    "# Importing required libraries\n",
    "import numpy as np\n",
    "from sklearn.svm import SVC\n",
    "import matplotlib.pyplot as plt"
   ]
  },
  {
   "cell_type": "code",
   "execution_count": 3,
   "metadata": {},
   "outputs": [
    {
     "data": {
      "text/plain": [
       "((13, 2), (13,))"
      ]
     },
     "execution_count": 3,
     "metadata": {},
     "output_type": "execute_result"
    }
   ],
   "source": [
    "# Dummy training data - self created completely random bs\n",
    "X = np.array([[1,1],[2,1],[1,2],[1.5, 1.5],[3,4],[2,5],[4,3],[7,2],[3,5],[2,6],[6,2],[3,4],[4,4]])\n",
    "Y = np.array([0,0,0,0,1,1,1,1,1,1,1,1,1])\n",
    "\n",
    "# Inspect shapes\n",
    "X.shape, Y.shape"
   ]
  },
  {
   "cell_type": "code",
   "execution_count": 15,
   "metadata": {},
   "outputs": [
    {
     "data": {
      "image/png": "[encoded data removed]",
      "text/plain": [
       "<Figure size 432x288 with 1 Axes>"
      ]
     },
     "metadata": {
      "needs_background": "light"
     },
     "output_type": "display_data"
    }
   ],
   "source": [
    "# Plotting dummy data different features\n",
    "X_x1 = X[:, 0]\n",
    "X_x2 = X[:, 1]\n",
    "plt.scatter(X_x1, X_x2)\n",
    "plt.show()"
   ]
  },
  {
   "cell_type": "code",
   "execution_count": 16,
   "metadata": {},
   "outputs": [
    {
     "data": {
      "text/plain": [
       "(array([[0.49989823, 0.49989823]]), array([-2.49953185]))"
      ]
     },
     "execution_count": 16,
     "metadata": {},
     "output_type": "execute_result"
    }
   ],
   "source": [
    "# Creating and fitting our classifier\n",
    "svcLinear = SVC(kernel='linear',C=1).fit(X, Y)\n",
    "\n",
    "# Inspecting the coefficients of theta matrix and the intercept generated upon runniung svm\n",
    "svcLinear.coef_, svcLinear.intercept_"
   ]
  },
  {
   "cell_type": "code",
   "execution_count": 17,
   "metadata": {},
   "outputs": [
    {
     "data": {
      "image/png": "[encoded data removed]",
      "text/plain": [
       "<Figure size 432x288 with 1 Axes>"
      ]
     },
     "metadata": {
      "needs_background": "light"
     },
     "output_type": "display_data"
    }
   ],
   "source": [
    "# Calculating points to satisfy the decision boundaries\n",
    "\n",
    "# Fixing two values for theta1 or m1\n",
    "x1 = np.array([0, 5])\n",
    "\n",
    "# Calculating theta2 m2 using:\n",
    "# m1*f1 + m2*f2 + intercept = 0\n",
    "# => f2 = -1 * (intercept + m1*f1) / m2\n",
    "\n",
    "x2 = -1*(svcLinear.intercept_ + (svcLinear.coef_[0][0] * x1)) / svcLinear.coef_[0][1]\n",
    "\n",
    "\n",
    "# Visualizing / Plotting the decision boundary\n",
    "plt.plot(x1, x2)\n",
    "plt.scatter(X_x1, X_x2)\n",
    "plt.axis([0,8,0,8])\n",
    "plt.show()"
   ]
  }
 ],
 "metadata": {
  "kernelspec": {
   "display_name": "Python 3",
   "language": "python",
   "name": "python3"
  },
  "language_info": {
   "codemirror_mode": {
    "name": "ipython",
    "version": 3
   },
   "file_extension": ".py",
   "mimetype": "text/x-python",
   "name": "python",
   "nbconvert_exporter": "python",
   "pygments_lexer": "ipython3",
   "version": "3.7.1"
  }
 },
 "nbformat": 4,
 "nbformat_minor": 2
}
