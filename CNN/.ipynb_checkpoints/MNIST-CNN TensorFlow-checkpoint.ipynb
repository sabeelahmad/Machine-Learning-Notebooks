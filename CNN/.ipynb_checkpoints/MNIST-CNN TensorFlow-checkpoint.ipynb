{
 "cells": [
  {
   "cell_type": "code",
   "execution_count": 1,
   "metadata": {},
   "outputs": [],
   "source": [
    "import tensorflow as tf"
   ]
  },
  {
   "cell_type": "code",
   "execution_count": 2,
   "metadata": {},
   "outputs": [
    {
     "name": "stdout",
     "output_type": "stream",
     "text": [
      "WARNING:tensorflow:From <ipython-input-2-03ef03703ce5>:2: read_data_sets (from tensorflow.contrib.learn.python.learn.datasets.mnist) is deprecated and will be removed in a future version.\n",
      "Instructions for updating:\n",
      "Please use alternatives such as official/mnist/dataset.py from tensorflow/models.\n",
      "WARNING:tensorflow:From C:\\Users\\sabee\\Anaconda3\\lib\\site-packages\\tensorflow\\contrib\\learn\\python\\learn\\datasets\\mnist.py:260: maybe_download (from tensorflow.contrib.learn.python.learn.datasets.base) is deprecated and will be removed in a future version.\n",
      "Instructions for updating:\n",
      "Please write your own downloading logic.\n",
      "WARNING:tensorflow:From C:\\Users\\sabee\\Anaconda3\\lib\\site-packages\\tensorflow\\contrib\\learn\\python\\learn\\datasets\\mnist.py:262: extract_images (from tensorflow.contrib.learn.python.learn.datasets.mnist) is deprecated and will be removed in a future version.\n",
      "Instructions for updating:\n",
      "Please use tf.data to implement this functionality.\n",
      "Extracting MNIST_data/train-images-idx3-ubyte.gz\n",
      "WARNING:tensorflow:From C:\\Users\\sabee\\Anaconda3\\lib\\site-packages\\tensorflow\\contrib\\learn\\python\\learn\\datasets\\mnist.py:267: extract_labels (from tensorflow.contrib.learn.python.learn.datasets.mnist) is deprecated and will be removed in a future version.\n",
      "Instructions for updating:\n",
      "Please use tf.data to implement this functionality.\n",
      "Extracting MNIST_data/train-labels-idx1-ubyte.gz\n",
      "WARNING:tensorflow:From C:\\Users\\sabee\\Anaconda3\\lib\\site-packages\\tensorflow\\contrib\\learn\\python\\learn\\datasets\\mnist.py:110: dense_to_one_hot (from tensorflow.contrib.learn.python.learn.datasets.mnist) is deprecated and will be removed in a future version.\n",
      "Instructions for updating:\n",
      "Please use tf.one_hot on tensors.\n",
      "Extracting MNIST_data/t10k-images-idx3-ubyte.gz\n",
      "Extracting MNIST_data/t10k-labels-idx1-ubyte.gz\n",
      "WARNING:tensorflow:From C:\\Users\\sabee\\Anaconda3\\lib\\site-packages\\tensorflow\\contrib\\learn\\python\\learn\\datasets\\mnist.py:290: DataSet.__init__ (from tensorflow.contrib.learn.python.learn.datasets.mnist) is deprecated and will be removed in a future version.\n",
      "Instructions for updating:\n",
      "Please use alternatives such as official/mnist/dataset.py from tensorflow/models.\n"
     ]
    }
   ],
   "source": [
    "from tensorflow.examples.tutorials.mnist import input_data\n",
    "mnist = input_data.read_data_sets('MNIST_data/', one_hot=True)"
   ]
  },
  {
   "cell_type": "code",
   "execution_count": 3,
   "metadata": {},
   "outputs": [],
   "source": [
    "# All parameters regarding layers at one place\n",
    "input_width = 28\n",
    "input_height = 28\n",
    "input_channels = 1\n",
    "input_pixels = 784\n",
    "\n",
    "n_conv1 = 32\n",
    "n_conv2 = 64\n",
    "stride_conv1 = 1\n",
    "stride_conv2 = 1\n",
    "conv1_k = 5\n",
    "conv2_k = 5\n",
    "\n",
    "max_pool1_k = 2\n",
    "max_pool2_k = 2\n",
    "\n",
    "n_hidden = 1024\n",
    "n_output = 10\n",
    "\n",
    "input_size_to_hidden = input_width//(max_pool1_k*max_pool2_k) * input_height//(max_pool1_k*max_pool2_k) * n_conv2"
   ]
  },
  {
   "cell_type": "code",
   "execution_count": 4,
   "metadata": {},
   "outputs": [
    {
     "name": "stdout",
     "output_type": "stream",
     "text": [
      "WARNING:tensorflow:From C:\\Users\\sabee\\Anaconda3\\lib\\site-packages\\tensorflow\\python\\framework\\op_def_library.py:263: colocate_with (from tensorflow.python.framework.ops) is deprecated and will be removed in a future version.\n",
      "Instructions for updating:\n",
      "Colocations handled automatically by placer.\n"
     ]
    }
   ],
   "source": [
    "# Ditcionary for weights and biases\n",
    "weights = {\n",
    "    \"wc1\": tf.Variable(tf.random_normal([conv1_k, conv1_k, input_channels, n_conv1])),\n",
    "    \"wc2\": tf.Variable(tf.random_normal([conv2_k, conv2_k, n_conv1, n_conv2])),\n",
    "    \"wh\": tf.Variable(tf.random_normal([input_size_to_hidden, n_hidden])),\n",
    "    \"wo\": tf.Variable(tf.random_normal([n_hidden, n_output]))\n",
    "}\n",
    "\n",
    "biases = {\n",
    "    \"bc1\": tf.Variable(tf.random_normal([n_conv1])),\n",
    "    \"bc2\": tf.Variable(tf.random_normal([n_conv2])),\n",
    "    \"bh\": tf.Variable(tf.random_normal([n_hidden])),\n",
    "    \"bo\": tf.Variable(tf.random_normal([n_output]))\n",
    "}"
   ]
  },
  {
   "cell_type": "code",
   "execution_count": 5,
   "metadata": {},
   "outputs": [],
   "source": [
    "# Convolutional Layer function\n",
    "def conv(x, weights, bias, strides=1):\n",
    "    # Step 1 : apply filter\n",
    "    # the strides arg is a list check documentation for more info\n",
    "    out = tf.nn.conv2d(x, weights, padding='SAME', strides = [1, strides, strides, 1])\n",
    "    # Step 2: add biases\n",
    "    out = tf.nn.bias_add(out, bias)\n",
    "    # Step 3: Apply an activation function our cnn layer\n",
    "    out = tf.nn.relu(out)\n",
    "    return out\n",
    "\n",
    "# Max pooling function\n",
    "def maxpooling(x, k=2):\n",
    "    return tf.nn.max_pool(x, padding='SAME', ksize=[1, k, k, 1], strides=[1, k, k, 1])"
   ]
  },
  {
   "cell_type": "code",
   "execution_count": 6,
   "metadata": {},
   "outputs": [],
   "source": [
    "# Forward propagation\n",
    "def cnn(x, weights, biases, keep_prob):\n",
    "    # Reshape to a non flattended image\n",
    "    x = tf.reshape(x, shape = [-1, input_height, input_width, input_channels])\n",
    "    # ouput of convolutional layer 1\n",
    "    conv1 = conv(x, weights['wc1'], biases['bc1'], stride_conv1)\n",
    "    # pass through max pool layer 1 - 2x2\n",
    "    conv1_pool = maxpooling(conv1, max_pool1_k)\n",
    "    # output of convolutional layer 2\n",
    "    conv2 = conv(conv1_pool, weights['wc2'], biases['bc2'], stride_conv2)\n",
    "    # pass through max pool layer 2 - 2x2\n",
    "    conv2_pool = maxpooling(conv2, max_pool2_k)\n",
    "    # Reshape to a flatten image to make it pass through dense layer\n",
    "    hidden_input = tf.reshape(conv2_pool, shape = [-1, input_size_to_hidden])\n",
    "    # pass to dense layer\n",
    "    hidden_output_before_activation = tf.add(tf.matmul(hidden_input, weights['wh']), biases['bh'])\n",
    "    # get output after activation\n",
    "    hidden_output_before_dropout = tf.nn.relu(hidden_output_before_activation)\n",
    "    # Apply dropout layer\n",
    "    hidden_output = tf.nn.dropout(hidden_output_before_dropout, keep_prob)\n",
    "    # output layer - identity activation function\n",
    "    output = tf.add(tf.matmul(hidden_output, weights['wo']), biases['bo'])\n",
    "    return output"
   ]
  },
  {
   "cell_type": "code",
   "execution_count": 7,
   "metadata": {},
   "outputs": [
    {
     "name": "stdout",
     "output_type": "stream",
     "text": [
      "WARNING:tensorflow:From <ipython-input-6-32b6f16d69f6>:20: calling dropout (from tensorflow.python.ops.nn_ops) with keep_prob is deprecated and will be removed in a future version.\n",
      "Instructions for updating:\n",
      "Please use `rate` instead of `keep_prob`. Rate should be set to `rate = 1 - keep_prob`.\n"
     ]
    }
   ],
   "source": [
    "# rest of code\n",
    "x = tf.placeholder('float', [None, input_pixels])\n",
    "y = tf.placeholder(tf.int32, [None, n_output])\n",
    "keep_prob = tf.placeholder('float')\n",
    "pred = cnn(x, weights, biases, keep_prob)"
   ]
  },
  {
   "cell_type": "code",
   "execution_count": 8,
   "metadata": {},
   "outputs": [],
   "source": [
    "cost = tf.reduce_mean(tf.nn.softmax_cross_entropy_with_logits_v2(logits=pred, labels=y))"
   ]
  },
  {
   "cell_type": "code",
   "execution_count": 9,
   "metadata": {},
   "outputs": [],
   "source": [
    "# optimizing\n",
    "optimizer = tf.train.AdamOptimizer(learning_rate=0.01)\n",
    "optimize = optimizer.minimize(cost)"
   ]
  },
  {
   "cell_type": "code",
   "execution_count": 10,
   "metadata": {},
   "outputs": [],
   "source": [
    "# creating a session\n",
    "sess = tf.Session()\n",
    "# init global vars\n",
    "sess.run(tf.global_variables_initializer())"
   ]
  },
  {
   "cell_type": "code",
   "execution_count": 11,
   "metadata": {},
   "outputs": [
    {
     "name": "stdout",
     "output_type": "stream",
     "text": [
      "813827.4487199783\n",
      "30764.25098580122\n",
      "17636.74918500567\n",
      "11032.477448813912\n",
      "6947.868788498723\n",
      "8012.503293281015\n",
      "6400.285253792665\n",
      "5762.292035781776\n",
      "5262.872145859454\n",
      "5678.782899810118\n",
      "5130.362799062949\n",
      "3836.2755016775845\n",
      "4297.492231429846\n",
      "4084.136475534188\n",
      "3132.1427471182083\n",
      "3203.149299874233\n",
      "2764.2407601552527\n",
      "2891.110381786637\n",
      "2246.2910502756667\n",
      "2104.060620781407\n",
      "2330.938409443115\n",
      "1967.8560916888684\n",
      "2374.0571894937316\n",
      "1972.2343152908406\n",
      "1736.1940142318306\n"
     ]
    }
   ],
   "source": [
    "# Iterations\n",
    "batch_size = 100\n",
    "for i in range(25):\n",
    "    num_batches = int(mnist.train.num_examples/batch_size)\n",
    "    total_cost = 0\n",
    "    for j in range(num_batches):\n",
    "        batch_x, batch_y = mnist.train.next_batch(batch_size)\n",
    "        c, _ = sess.run([cost, optimize], feed_dict={x: batch_x, y:batch_y, keep_prob: 0.8})\n",
    "        total_cost += c\n",
    "    print(total_cost)"
   ]
  },
  {
   "cell_type": "code",
   "execution_count": 12,
   "metadata": {},
   "outputs": [
    {
     "data": {
      "text/plain": [
       "9844"
      ]
     },
     "execution_count": 12,
     "metadata": {},
     "output_type": "execute_result"
    }
   ],
   "source": [
    "# Predictiing and accuracy\n",
    "predictions = tf.argmax(pred, 1) # Taking the max value of the 10 digits\n",
    "correct_labels = tf.argmax(y, 1)\n",
    "correct_predictions = tf.equal(predictions, correct_labels)\n",
    "predictions, correct_preds = sess.run([predictions, correct_predictions], feed_dict={x: mnist.test.images, y:mnist.test.labels, keep_prob: 1.0})\n",
    "correct_preds.sum()"
   ]
  }
 ],
 "metadata": {
  "kernelspec": {
   "display_name": "Python 3",
   "language": "python",
   "name": "python3"
  },
  "language_info": {
   "codemirror_mode": {
    "name": "ipython",
    "version": 3
   },
   "file_extension": ".py",
   "mimetype": "text/x-python",
   "name": "python",
   "nbconvert_exporter": "python",
   "pygments_lexer": "ipython3",
   "version": "3.6.8"
  }
 },
 "nbformat": 4,
 "nbformat_minor": 2
}
