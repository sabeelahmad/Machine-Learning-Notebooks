{
 "cells": [
  {
   "cell_type": "markdown",
   "metadata": {},
   "source": [
    "## Applying PCA on the Iris dataset\n",
    "\n",
    "We will apply PCA on the Iris dataset.\n",
    "We will check the performance of logistic regression on the ds with and without PCA.\n",
    "\n",
    "Metrics for performance here are:\n",
    "1. Speed\n",
    "2. Score/Accuracy"
   ]
  },
  {
   "cell_type": "code",
   "execution_count": 74,
   "metadata": {},
   "outputs": [],
   "source": [
    "import time\n",
    "import numpy as np\n",
    "import matplotlib.pyplot as plt\n",
    "from sklearn.decomposition import PCA\n",
    "from sklearn.linear_model import LogisticRegression\n",
    "from sklearn import datasets\n",
    "from sklearn.model_selection import train_test_split\n",
    "from sklearn.preprocessing import StandardScaler"
   ]
  },
  {
   "cell_type": "code",
   "execution_count": 75,
   "metadata": {},
   "outputs": [],
   "source": [
    "# Load dataset\n",
    "iris = datasets.load_iris()\n",
    "\n",
    "# Form data points and labels\n",
    "X = iris.data\n",
    "Y = iris.target"
   ]
  },
  {
   "cell_type": "code",
   "execution_count": 76,
   "metadata": {},
   "outputs": [
    {
     "data": {
      "text/plain": [
       "((150, 4), (150,))"
      ]
     },
     "execution_count": 76,
     "metadata": {},
     "output_type": "execute_result"
    }
   ],
   "source": [
    "# Inspect data \n",
    "X.shape, Y.shape"
   ]
  },
  {
   "cell_type": "code",
   "execution_count": 77,
   "metadata": {},
   "outputs": [],
   "source": [
    "# Split data into training and testing\n",
    "x_train, x_test, y_train, y_test = train_test_split(X, Y, random_state = 0)"
   ]
  },
  {
   "cell_type": "code",
   "execution_count": 78,
   "metadata": {},
   "outputs": [
    {
     "data": {
      "text/plain": [
       "((112, 4), (112,), (38, 4), (38,))"
      ]
     },
     "execution_count": 78,
     "metadata": {},
     "output_type": "execute_result"
    }
   ],
   "source": [
    "# Inspect data after form train and test \n",
    "x_train.shape, y_train.shape, x_test.shape, y_test.shape"
   ]
  },
  {
   "cell_type": "code",
   "execution_count": 79,
   "metadata": {},
   "outputs": [
    {
     "data": {
      "text/plain": [
       "LogisticRegression(C=1.0, class_weight=None, dual=False, fit_intercept=True,\n",
       "          intercept_scaling=1, max_iter=100, multi_class='warn',\n",
       "          n_jobs=None, penalty='l2', random_state=None, solver='warn',\n",
       "          tol=0.0001, verbose=0, warm_start=False)"
      ]
     },
     "execution_count": 79,
     "metadata": {},
     "output_type": "execute_result"
    }
   ],
   "source": [
    "# Iris without PCA\n",
    "clf = LogisticRegression()\n",
    "clf"
   ]
  },
  {
   "cell_type": "code",
   "execution_count": 80,
   "metadata": {},
   "outputs": [
    {
     "name": "stderr",
     "output_type": "stream",
     "text": [
      "C:\\Users\\sabee\\Anaconda3\\lib\\site-packages\\sklearn\\linear_model\\logistic.py:433: FutureWarning: Default solver will be changed to 'lbfgs' in 0.22. Specify a solver to silence this warning.\n",
      "  FutureWarning)\n",
      "C:\\Users\\sabee\\Anaconda3\\lib\\site-packages\\sklearn\\linear_model\\logistic.py:460: FutureWarning: Default multi_class will be changed to 'auto' in 0.22. Specify the multi_class option to silence this warning.\n",
      "  \"this warning.\", FutureWarning)\n"
     ]
    }
   ],
   "source": [
    "# Train\n",
    "start = time.time()\n",
    "clf.fit(x_train, y_train)\n",
    "end = time.time()"
   ]
  },
  {
   "cell_type": "code",
   "execution_count": 81,
   "metadata": {},
   "outputs": [
    {
     "name": "stdout",
     "output_type": "stream",
     "text": [
      "Time without PCA =  0.002507448196411133\n",
      "Score without PCA =  0.868421052631579\n"
     ]
    }
   ],
   "source": [
    "# score and time\n",
    "print('Time without PCA = ', end-start)\n",
    "print('Score without PCA = ', clf.score(x_test, y_test))"
   ]
  },
  {
   "cell_type": "markdown",
   "metadata": {},
   "source": [
    "## Applying PCA"
   ]
  },
  {
   "cell_type": "code",
   "execution_count": 82,
   "metadata": {},
   "outputs": [],
   "source": [
    "# Feature scaling\n",
    "#scaler = StandardScaler()\n",
    "#scaler.fit(x_train)"
   ]
  },
  {
   "cell_type": "code",
   "execution_count": 83,
   "metadata": {},
   "outputs": [],
   "source": [
    "#scaler.mean_"
   ]
  },
  {
   "cell_type": "code",
   "execution_count": 84,
   "metadata": {},
   "outputs": [],
   "source": [
    "# Transfrom data\n",
    "#scaler.transform(x_train)\n",
    "#x_test = scaler.transform(x_test)"
   ]
  },
  {
   "cell_type": "code",
   "execution_count": 85,
   "metadata": {},
   "outputs": [
    {
     "data": {
      "text/plain": [
       "array([[ 4.51491676e-01, -1.26508046e-01,  1.45980696e-01,\n",
       "         3.43798747e-02],\n",
       "       [ 1.62351943e-01, -4.31157858e-01, -2.03218243e-01,\n",
       "        -6.20101585e-03],\n",
       "       [ 2.11263303e+00,  1.48987433e-01,  3.50122071e-02,\n",
       "         1.45724571e-01],\n",
       "       [-2.94949688e+00, -8.89238512e-02,  3.96508566e-02,\n",
       "         1.07522143e-02],\n",
       "       [ 1.87495486e+00,  3.45547954e-01,  1.06009743e-01,\n",
       "         4.91892738e-01],\n",
       "       [-2.45736119e+00,  2.38864150e-01,  2.72403306e-01,\n",
       "         1.72566278e-01],\n",
       "       [-2.54886975e+00,  6.88622040e-01, -7.96051316e-02,\n",
       "        -1.56731549e-02],\n",
       "       [-5.96539014e-01, -1.27590863e+00, -2.14619244e-01,\n",
       "         1.25248024e-02],\n",
       "       [ 1.89191153e+00, -1.52731482e-02,  5.48928242e-02,\n",
       "        -1.76618791e-01],\n",
       "       [ 2.36903557e+00,  2.45646530e-01,  5.01913054e-01,\n",
       "         2.28901236e-01],\n",
       "       [ 1.22332113e+00, -8.16245233e-01, -3.07901686e-01,\n",
       "        -7.75696392e-02],\n",
       "       [ 2.25580406e+00, -3.23597291e-01, -3.29247439e-01,\n",
       "        -1.06229085e-01],\n",
       "       [-2.73681998e-02, -6.05372109e-01, -2.02120958e-01,\n",
       "        -6.66531278e-02],\n",
       "       [ 3.03413563e+00,  5.84432720e-01, -3.51779422e-01,\n",
       "         2.92736793e-01],\n",
       "       [ 1.04377358e+00,  2.49668901e-01,  1.72988144e-01,\n",
       "        -9.58646829e-02],\n",
       "       [-1.43514510e-01, -7.24832833e-01, -2.07650545e-01,\n",
       "        -1.96574524e-02],\n",
       "       [ 1.32571853e+00, -2.55815122e-01, -4.79320692e-02,\n",
       "         1.41173728e-01],\n",
       "       [ 1.38157720e+00, -1.94290215e-01, -1.35334674e-01,\n",
       "        -2.13022939e-01],\n",
       "       [ 4.35436847e-01, -1.19895412e+00,  5.97935805e-01,\n",
       "        -1.24800052e-01],\n",
       "       [ 1.46005310e+00, -4.33019103e-01, -1.00717573e-01,\n",
       "         2.29302403e-01],\n",
       "       [ 1.24211062e+00,  6.26242447e-01, -4.17442860e-01,\n",
       "         5.35790634e-03],\n",
       "       [ 1.70835619e+00,  2.48678951e-02,  1.37406331e-01,\n",
       "         1.19839732e-01],\n",
       "       [ 7.53917603e-01,  1.74959474e-01,  3.95620571e-01,\n",
       "        -1.24792439e-01],\n",
       "       [-2.64980561e+00, -1.57497941e-01, -5.31232030e-02,\n",
       "        -7.21677183e-02],\n",
       "       [ 1.34366364e+00, -6.12432768e-01,  3.26493381e-01,\n",
       "        -3.85688919e-02],\n",
       "       [ 2.86608081e-01, -5.25031263e-01,  4.68784277e-02,\n",
       "        -1.21091622e-01],\n",
       "       [-2.37475156e-01, -2.63078943e-01,  1.11090959e-01,\n",
       "         1.08243272e-01],\n",
       "       [ 9.19651036e-02, -7.01550642e-01, -2.48485412e-02,\n",
       "         4.64724313e-03],\n",
       "       [ 8.31405061e-01, -6.79728689e-02,  4.69530252e-03,\n",
       "        -1.71236006e-01],\n",
       "       [ 2.56785609e+00,  4.80220522e-01, -2.11818634e-01,\n",
       "        -2.56930546e-01],\n",
       "       [-2.58651939e+00,  6.26219970e-01, -1.89373375e-02,\n",
       "        -4.74206697e-02],\n",
       "       [-3.29301297e+00, -4.45000897e-01,  9.58863482e-02,\n",
       "        -3.44517371e-02],\n",
       "       [ 1.73983065e+00, -2.74979101e-01, -2.04678255e-02,\n",
       "         5.52108781e-02],\n",
       "       [ 2.68419823e-01, -2.28366558e-01,  1.05193519e-01,\n",
       "        -2.56215973e-01],\n",
       "       [-2.35868689e+00,  4.25049195e-01, -2.35583381e-01,\n",
       "        -2.12068813e-02],\n",
       "       [-2.41053777e+00,  1.38929738e+00,  2.50195547e-01,\n",
       "         1.82362190e-02],\n",
       "       [ 1.41729221e+00,  4.43695050e-01, -3.43363189e-01,\n",
       "        -1.70041239e-02],\n",
       "       [-2.81023947e+00, -2.63822705e-01,  5.96896062e-02,\n",
       "        -8.73100885e-02],\n",
       "       [ 1.32547538e+00, -3.15768063e-01,  3.84808473e-01,\n",
       "        -1.73693242e-01],\n",
       "       [-9.81827562e-01, -7.51068072e-01,  2.45130015e-02,\n",
       "         2.09783233e-01],\n",
       "       [-2.87936357e+00, -2.63777793e-02,  2.78231556e-01,\n",
       "        -5.44287489e-02],\n",
       "       [ 8.72947560e-01, -5.99044211e-01, -4.71851169e-01,\n",
       "         2.27688687e-01],\n",
       "       [ 2.87790836e+00,  7.10353467e-01,  4.05689007e-01,\n",
       "         1.03056580e-01],\n",
       "       [ 3.10981915e-01, -3.11553131e-01,  1.01559839e-01,\n",
       "        -1.50125169e-01],\n",
       "       [-2.84936104e+00, -1.88428676e-01, -1.81884285e-01,\n",
       "        -2.07721413e-02],\n",
       "       [ 2.56612025e+00,  2.62276138e-01, -1.12900059e-01,\n",
       "         4.75564781e-02],\n",
       "       [ 2.37912438e+00,  3.10209726e-01,  2.14821020e-01,\n",
       "         1.71386251e-01],\n",
       "       [ 2.29101200e+00, -1.01305449e-01,  2.96624848e-01,\n",
       "        -1.88756788e-02],\n",
       "       [ 2.06044483e+00, -2.70176285e-01,  1.70856958e-01,\n",
       "         3.11629143e-02],\n",
       "       [-2.58332201e+00,  5.58474484e-01,  1.68595632e-01,\n",
       "        -1.89658890e-01],\n",
       "       [-2.66971933e+00,  6.91161511e-02,  1.19900605e-01,\n",
       "        -1.63339311e-01],\n",
       "       [ 1.60994581e+00,  1.94423333e-01,  2.44232757e-01,\n",
       "         1.07411330e-01],\n",
       "       [ 2.22533881e+00,  2.76240702e-01,  2.85749367e-01,\n",
       "        -7.38998548e-02],\n",
       "       [-2.92913083e+00, -9.01218811e-01, -3.04044056e-01,\n",
       "         2.96472235e-01],\n",
       "       [ 1.84689735e+00,  7.99094258e-02,  7.29276446e-01,\n",
       "         3.34305638e-02],\n",
       "       [-2.77578721e+00, -1.33675149e-01, -1.88511158e-01,\n",
       "         8.66756461e-02],\n",
       "       [ 1.27007942e+00, -8.15080066e-01,  3.17330113e-01,\n",
       "         1.14517587e-01],\n",
       "       [ 2.05851020e+00,  3.05406910e-01,  2.34962365e-02,\n",
       "         1.95434215e-01],\n",
       "       [-3.06244581e+00, -2.76130062e-01,  2.21654239e-01,\n",
       "        -8.44903301e-02],\n",
       "       [-2.77796499e+00,  3.81955106e-01,  9.68686633e-02,\n",
       "        -6.39200239e-02],\n",
       "       [ 2.33901438e+00,  3.81400299e-01, -4.52295241e-01,\n",
       "        -2.50844711e-01],\n",
       "       [-2.69775325e+00,  3.61170602e-01,  3.25671884e-02,\n",
       "         7.39182943e-02],\n",
       "       [-3.04917000e+00, -4.27206123e-01,  1.06305034e-01,\n",
       "        -2.37092685e-02],\n",
       "       [-2.32002804e+00,  7.87442263e-01,  1.60871475e-01,\n",
       "        -2.17589902e-02],\n",
       "       [ 1.05240913e-01, -8.52626703e-01, -1.40197746e-01,\n",
       "         6.54283047e-02],\n",
       "       [ 2.51174388e+00,  2.10848903e-01,  2.92534372e-01,\n",
       "         4.29334172e-02],\n",
       "       [ 3.35031047e+00,  4.44930853e-01, -3.56579577e-01,\n",
       "        -1.32174564e-01],\n",
       "       [-2.73367744e+00,  3.68819145e-01, -2.14737333e-02,\n",
       "        -1.78197831e-03],\n",
       "       [-2.69729054e+00, -7.66164945e-02, -1.22313776e-01,\n",
       "         7.93245592e-03],\n",
       "       [-2.68938989e+00,  3.55683184e-01, -1.39816130e-01,\n",
       "         6.03560673e-02],\n",
       "       [ 5.73023534e-01, -4.42529291e-01,  6.94535732e-02,\n",
       "        -2.64792617e-01],\n",
       "       [ 8.49384139e-01,  2.80996234e-01, -3.15689226e-01,\n",
       "         8.42068869e-02],\n",
       "       [-2.92168251e+00,  1.16761736e-01, -1.50875305e-01,\n",
       "         1.54347418e-01],\n",
       "       [-2.35722535e+00,  1.39359325e-01,  5.08681639e-02,\n",
       "         1.41041923e-01],\n",
       "       [ 6.59663996e-01,  1.06781983e-01, -3.14591941e-01,\n",
       "         2.37547749e-02],\n",
       "       [-2.45710766e+00,  4.46710862e-01, -1.44547096e-01,\n",
       "         2.26898983e-01],\n",
       "       [ 3.74176382e+00,  1.34445585e-01, -5.14295600e-01,\n",
       "         2.74776414e-02],\n",
       "       [-8.31009420e-01, -9.99199829e-01,  5.97014025e-02,\n",
       "        -4.40795169e-02],\n",
       "       [ 3.20396283e+00,  1.28104861e+00, -1.48272619e-01,\n",
       "        -2.59051220e-01],\n",
       "       [ 8.80395879e-01,  4.18936335e-01, -3.18682418e-01,\n",
       "         8.55638709e-02],\n",
       "       [-2.68664484e+00,  8.73618566e-01,  2.18387945e-01,\n",
       "        -2.76430580e-01],\n",
       "       [ 1.10772131e+00, -1.97927864e-01,  2.98572342e-01,\n",
       "         3.11225084e-03],\n",
       "       [-2.67358860e+00,  1.22028254e+00, -1.74820838e-01,\n",
       "         1.65203290e-01],\n",
       "       [ 3.45044630e+00,  3.45426029e-01, -5.78114718e-01,\n",
       "        -1.63698919e-01],\n",
       "       [-2.63253240e+00,  5.69305318e-01,  2.14113775e-01,\n",
       "        -6.56059576e-02],\n",
       "       [-2.69409316e+00, -1.44361980e-01,  6.52191936e-02,\n",
       "        -1.34305764e-01],\n",
       "       [ 2.79076575e+00,  2.76744620e-01, -5.01288932e-01,\n",
       "        -4.45257798e-02],\n",
       "       [-2.75805128e+00,  1.55341013e-01, -7.61551442e-02,\n",
       "         2.72515685e-02],\n",
       "       [ 2.09074032e+00,  9.77042001e-02,  7.39695132e-01,\n",
       "         4.41730323e-02],\n",
       "       [ 2.32485249e-01, -3.68611786e-01,  3.53624571e-02,\n",
       "        -7.13819791e-02],\n",
       "       [ 7.05794674e-02, -3.37140450e-01, -1.54066419e-01,\n",
       "         1.17611127e-02],\n",
       "       [-3.72818933e-01, -3.85865960e-01, -2.93246187e-01,\n",
       "         5.24142212e-02],\n",
       "       [ 1.85033788e+00,  7.21168810e-02,  4.84068874e-01,\n",
       "         2.06059314e-01],\n",
       "       [ 1.89142805e+00,  1.26726406e-01,  1.78193508e-01,\n",
       "         4.10435580e-01],\n",
       "       [ 1.23122177e+00, -3.83945554e-01, -3.25404039e-01,\n",
       "        -2.51460278e-02],\n",
       "       [ 1.50561378e+00,  2.09576417e-01, -1.63097581e-01,\n",
       "         5.29392631e-02],\n",
       "       [-2.56786842e+00, -1.08231832e-01, -2.32133394e-01,\n",
       "         2.17178421e-02],\n",
       "       [-2.64573270e-01, -6.98704914e-01, -2.70214246e-01,\n",
       "        -4.70050656e-02],\n",
       "       [ 2.26125262e+00,  1.20698388e-01,  3.24000148e-01,\n",
       "         2.62334684e-01],\n",
       "       [ 1.34366364e+00, -6.12432768e-01,  3.26493381e-01,\n",
       "        -3.85688919e-02],\n",
       "       [-2.64190497e+00,  2.74801738e-01, -7.06255568e-02,\n",
       "        -1.97441069e-02],\n",
       "       [ 9.90366998e-01,  1.76147994e-01, -4.10359192e-01,\n",
       "        -5.78081736e-02],\n",
       "       [ 1.81559795e-01, -2.79937794e-01,  2.11379456e-01,\n",
       "        -1.63910556e-01],\n",
       "       [ 1.05679586e+00, -1.09253872e-01,  4.74589341e-01,\n",
       "        -8.94163256e-02],\n",
       "       [ 7.46976352e-01, -4.27327648e-01, -5.91448983e-01,\n",
       "         1.25997786e-01],\n",
       "       [-2.66821344e+00,  6.36906802e-01, -2.72667689e-01,\n",
       "         1.73560740e-01],\n",
       "       [-2.58997030e+00,  4.86118744e-01,  2.10480094e-01,\n",
       "         4.04848458e-02],\n",
       "       [-2.73321473e+00, -6.89679515e-02, -1.76354698e-01,\n",
       "        -6.77678167e-02],\n",
       "       [ 1.90838472e+00, -2.34094696e-01,  1.27076589e-01,\n",
       "        -2.58075949e-01],\n",
       "       [ 1.69000233e-01, -3.58802117e-01, -2.45102705e-01,\n",
       "        -2.36344751e-01],\n",
       "       [ 3.45591563e+00,  1.08550925e+00,  1.06713150e-01,\n",
       "        -3.16203682e-01],\n",
       "       [-2.90201195e+00, -1.69805298e-01,  1.08841430e-01,\n",
       "        -6.93479599e-02]])"
      ]
     },
     "execution_count": 85,
     "metadata": {},
     "output_type": "execute_result"
    }
   ],
   "source": [
    "# Applying PCA without reducing dimensionality to determine total variance \n",
    "# Which will later help us in determining the best possible number of dimensions to take for maintaining\n",
    "# a particular amount of variance in our dataset\n",
    "\n",
    "pca = PCA()\n",
    "x_train_transformed = pca.fit_transform(x_train)\n",
    "x_train_transformed"
   ]
  },
  {
   "cell_type": "code",
   "execution_count": 86,
   "metadata": {},
   "outputs": [
    {
     "data": {
      "text/plain": [
       "array([[ 0.37649644, -0.06637905,  0.85134571,  0.35924188],\n",
       "       [ 0.6240207 ,  0.75538031, -0.18479376, -0.07648543],\n",
       "       [-0.60667794,  0.57674603,  0.08522779,  0.54040922],\n",
       "       [ 0.31747515, -0.30390531, -0.48352659,  0.75700273]])"
      ]
     },
     "execution_count": 86,
     "metadata": {},
     "output_type": "execute_result"
    }
   ],
   "source": [
    "# components\n",
    "pca.components_"
   ]
  },
  {
   "cell_type": "code",
   "execution_count": 87,
   "metadata": {},
   "outputs": [
    {
     "data": {
      "text/plain": [
       "array([4.45407391, 0.25193059, 0.07478621, 0.0218018 ])"
      ]
     },
     "execution_count": 87,
     "metadata": {},
     "output_type": "execute_result"
    }
   ],
   "source": [
    "pca.explained_variance_"
   ]
  },
  {
   "cell_type": "code",
   "execution_count": 88,
   "metadata": {},
   "outputs": [
    {
     "data": {
      "text/plain": [
       "3"
      ]
     },
     "execution_count": 88,
     "metadata": {},
     "output_type": "execute_result"
    }
   ],
   "source": [
    "# determining best number of components\n",
    "total_variance = sum(pca.explained_variance_)\n",
    "current = 0\n",
    "k = 0\n",
    "\n",
    "# maintaining a 99% variance in our data \n",
    "while current/total_variance <= 0.99:\n",
    "    current += pca.explained_variance_[k]\n",
    "    k += 1\n",
    "\n",
    "k"
   ]
  },
  {
   "cell_type": "code",
   "execution_count": 89,
   "metadata": {},
   "outputs": [
    {
     "data": {
      "text/plain": [
       "((112, 3), (38, 3))"
      ]
     },
     "execution_count": 89,
     "metadata": {},
     "output_type": "execute_result"
    }
   ],
   "source": [
    "# Now reduce dimensionality to k components\n",
    "pca2 = PCA(n_components=k)\n",
    "x_train_final = pca2.fit_transform(x_train)\n",
    "x_test_final = pca2.transform(x_test)\n",
    "\n",
    "x_train_final.shape, x_test_final.shape"
   ]
  },
  {
   "cell_type": "code",
   "execution_count": 90,
   "metadata": {},
   "outputs": [],
   "source": [
    "# Apply logistic regression and measure the two metrics\n",
    "clf2 = LogisticRegression()"
   ]
  },
  {
   "cell_type": "code",
   "execution_count": 91,
   "metadata": {},
   "outputs": [
    {
     "name": "stderr",
     "output_type": "stream",
     "text": [
      "C:\\Users\\sabee\\Anaconda3\\lib\\site-packages\\sklearn\\linear_model\\logistic.py:433: FutureWarning: Default solver will be changed to 'lbfgs' in 0.22. Specify a solver to silence this warning.\n",
      "  FutureWarning)\n",
      "C:\\Users\\sabee\\Anaconda3\\lib\\site-packages\\sklearn\\linear_model\\logistic.py:460: FutureWarning: Default multi_class will be changed to 'auto' in 0.22. Specify the multi_class option to silence this warning.\n",
      "  \"this warning.\", FutureWarning)\n"
     ]
    }
   ],
   "source": [
    "start_pca = time.time()\n",
    "clf2.fit(x_train_final, y_train)\n",
    "end_pca = time.time()"
   ]
  },
  {
   "cell_type": "code",
   "execution_count": 92,
   "metadata": {},
   "outputs": [
    {
     "name": "stdout",
     "output_type": "stream",
     "text": [
      "Time with PCA =  0.0015025138854980469\n",
      "Score with PCA =  0.8157894736842105\n"
     ]
    }
   ],
   "source": [
    "print('Time with PCA = ', end_pca - start_pca)\n",
    "print('Score with PCA = ', clf2.score(x_test_final, y_test))"
   ]
  }
 ],
 "metadata": {
  "kernelspec": {
   "display_name": "Python 3",
   "language": "python",
   "name": "python3"
  },
  "language_info": {
   "codemirror_mode": {
    "name": "ipython",
    "version": 3
   },
   "file_extension": ".py",
   "mimetype": "text/x-python",
   "name": "python",
   "nbconvert_exporter": "python",
   "pygments_lexer": "ipython3",
   "version": "3.7.1"
  }
 },
 "nbformat": 4,
 "nbformat_minor": 2
}
