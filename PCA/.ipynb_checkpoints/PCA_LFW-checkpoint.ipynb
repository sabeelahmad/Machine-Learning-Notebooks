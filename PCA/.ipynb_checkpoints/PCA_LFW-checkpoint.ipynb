{
 "cells": [
  {
   "cell_type": "markdown",
   "metadata": {},
   "source": [
    "## Image Classification"
   ]
  },
  {
   "cell_type": "code",
   "execution_count": 6,
   "metadata": {},
   "outputs": [],
   "source": [
    "from sklearn import datasets\n",
    "from sklearn.model_selection import train_test_split\n",
    "from sklearn.decomposition import PCA\n",
    "import matplotlib.pyplot as plt"
   ]
  },
  {
   "cell_type": "code",
   "execution_count": null,
   "metadata": {},
   "outputs": [],
   "source": [
    "# Importing dataset\n",
    "lfw = datasets.fetch_lfw_people(min_faces_per_person=100, resize=0.4)"
   ]
  },
  {
   "cell_type": "code",
   "execution_count": null,
   "metadata": {},
   "outputs": [],
   "source": [
    "# Checking what all info the dataset consists of\n",
    "lfw.keys()"
   ]
  },
  {
   "cell_type": "code",
   "execution_count": null,
   "metadata": {},
   "outputs": [],
   "source": [
    "# inspecting shape of the images \n",
    "# should be a tuple of the form (a, b, c), where:\n",
    "# => a = no of images\n",
    "# => b,c - dimensions of a single pixel\n",
    "lfw.images.shape"
   ]
  },
  {
   "cell_type": "code",
   "execution_count": null,
   "metadata": {},
   "outputs": [],
   "source": [
    "# Plotting the images using matplotlib\n",
    "fig = plt.figure(figsize=(8, 8))\n",
    "for i in range(64):\n",
    "    ax = fig.add_subplot(8,8,i+1)\n",
    "    ax.imshow(lfw.images[i], cmap = plt.cm.bone)\n",
    "plt.show()"
   ]
  },
  {
   "cell_type": "code",
   "execution_count": null,
   "metadata": {},
   "outputs": [],
   "source": [
    "# Applying PCA without deimensionality reduction\n",
    "x, y = lfw.data, lfw.target\n",
    "pca = PCA()\n",
    "pca.fit(x)"
   ]
  },
  {
   "cell_type": "code",
   "execution_count": null,
   "metadata": {},
   "outputs": [],
   "source": [
    "# Determining best K\n",
    "k = 0\n",
    "total = 0\n",
    "while total < 0.99:\n",
    "    total += pca.explained_variance_ratio_[k]\n",
    "    k += 1\n",
    "k"
   ]
  },
  {
   "cell_type": "code",
   "execution_count": null,
   "metadata": {},
   "outputs": [],
   "source": [
    "pca_lfw = PCA(n_components = k, whiten = True)\n",
    "x_transformed = pca_lfw.fit_transform(x)\n",
    "x_transformed.shape"
   ]
  },
  {
   "cell_type": "code",
   "execution_count": null,
   "metadata": {},
   "outputs": [],
   "source": [
    "# Reproducing the images and plotting them\n",
    "x_approx = pca_lfw.inverse_transform(x_transformed)\n",
    "x_approx = x_approx.reshape((1140, 50, 37))"
   ]
  },
  {
   "cell_type": "code",
   "execution_count": null,
   "metadata": {},
   "outputs": [],
   "source": [
    "fig = plt.figure(figsize=(8, 8))\n",
    "for i in range(64):\n",
    "    ax = fig.add_subplot(8,8,i+1)\n",
    "    ax.imshow(x_approx[i], cmap = plt.cm.bone)\n",
    "plt.show()"
   ]
  },
  {
   "cell_type": "code",
   "execution_count": null,
   "metadata": {},
   "outputs": [],
   "source": [
    "# Eigenfaces\n",
    "pca_lfw.components_.shape"
   ]
  },
  {
   "cell_type": "code",
   "execution_count": null,
   "metadata": {},
   "outputs": [],
   "source": [
    "# Reshape the components from all to k\n",
    "eigenv = pca.components_.reshape(k, 50, 37)"
   ]
  },
  {
   "cell_type": "code",
   "execution_count": null,
   "metadata": {},
   "outputs": [],
   "source": [
    "fig = plt.figure(figsize=(8, 8))\n",
    "for i in range(64):\n",
    "    ax = fig.add_subplot(8,8,i+1, xticks = [], yticks = [])\n",
    "    ax.imshow(eigenv[i], cmap = plt.cm.bone)\n",
    "plt.show()"
   ]
  }
 ],
 "metadata": {
  "kernelspec": {
   "display_name": "Python 3",
   "language": "python",
   "name": "python3"
  },
  "language_info": {
   "codemirror_mode": {
    "name": "ipython",
    "version": 3
   },
   "file_extension": ".py",
   "mimetype": "text/x-python",
   "name": "python",
   "nbconvert_exporter": "python",
   "pygments_lexer": "ipython3",
   "version": "3.7.1"
  }
 },
 "nbformat": 4,
 "nbformat_minor": 2
}
