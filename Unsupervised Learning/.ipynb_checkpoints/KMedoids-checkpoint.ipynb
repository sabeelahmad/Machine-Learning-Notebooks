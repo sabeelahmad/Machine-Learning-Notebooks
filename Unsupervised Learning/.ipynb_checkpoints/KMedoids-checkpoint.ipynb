{
 "cells": [
  {
   "cell_type": "markdown",
   "metadata": {},
   "source": [
    "### K Medoids\n",
    "\n",
    "Differences from K Means:\n",
    "1. Here the centre of a cluster is an actual data point whereas in K Means the center of a cluster is not an actual data point\n",
    "2. Here l1 distance is used, in K Means l2 distance was used\n",
    "\n",
    "### Algortihm\n",
    "1. Start with K random medoids\n",
    "2. Assign each data point one of the clusters depending upon their distance to the randomly choosen medoids\n",
    "3. Find/Update the new medoid, which is basically a replacement for the current medoid, unlike means which can simply be calculated this is a bit difficult\n",
    "\n",
    "### How can we find replacements for current medoids?\n",
    "We define a score, which is distance of each point in a cluster from the current medoid for each cluster.\n",
    "After which we do the same on the new medoid and if the score improves, we get a replacement.\n",
    "\n",
    "In better words, the replacement is found by: **Taking a random point from a cluster and checking if overall clustering cost is lesser than previous point’s cost**\n",
    "\n",
    "**Try Implementing in future**"
   ]
  }
 ],
 "metadata": {
  "kernelspec": {
   "display_name": "Python 3",
   "language": "python",
   "name": "python3"
  },
  "language_info": {
   "codemirror_mode": {
    "name": "ipython",
    "version": 3
   },
   "file_extension": ".py",
   "mimetype": "text/x-python",
   "name": "python",
   "nbconvert_exporter": "python",
   "pygments_lexer": "ipython3",
   "version": "3.6.8"
  }
 },
 "nbformat": 4,
 "nbformat_minor": 2
}
