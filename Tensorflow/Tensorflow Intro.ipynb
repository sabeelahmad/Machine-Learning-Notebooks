{
 "cells": [
  {
   "cell_type": "code",
   "execution_count": 1,
   "metadata": {},
   "outputs": [],
   "source": [
    "import tensorflow as tf"
   ]
  },
  {
   "cell_type": "markdown",
   "metadata": {},
   "source": [
    "## Creating constants in TF"
   ]
  },
  {
   "cell_type": "code",
   "execution_count": null,
   "metadata": {},
   "outputs": [],
   "source": [
    "a = tf.constant(2)\n",
    "b = tf.constant(3)\n",
    "\n",
    "c = a + b\n",
    "# To actually do addition we need to create a tf session\n",
    "sess = tf.Session()\n",
    "# And pass the parameter we want to evalute to run\n",
    "sess.run(c)\n",
    "\n",
    "a1 = tf.constant([[3, 3]])\n",
    "a2 = tf.constant([[3],[3]])\n",
    "\n",
    "# matrix multiplication\n",
    "res = tf.matmul(a1, a2) # this wont actually do multiplication\n",
    "\n",
    "# to evaluate\n",
    "sess.run(res)"
   ]
  },
  {
   "cell_type": "markdown",
   "metadata": {},
   "source": [
    "## Session in TF"
   ]
  },
  {
   "cell_type": "code",
   "execution_count": 19,
   "metadata": {},
   "outputs": [
    {
     "name": "stdout",
     "output_type": "stream",
     "text": [
      "5\n",
      "18\n",
      "[[18]]\n"
     ]
    }
   ],
   "source": [
    "# The session object is very important in Tensorflow\n",
    "a = tf.constant(2)\n",
    "b = tf.constant(3)\n",
    "c = a + b\n",
    "d = a * b * b\n",
    "a1 = tf.constant([[3, 3]])\n",
    "a2 = tf.constant([[3],[3]])\n",
    "res = tf.matmul(a1, a2)\n",
    "# Another way of using session \n",
    "with tf.Session() as sess:\n",
    "    # eval cannot be run outside the with block\n",
    "    print(c.eval())\n",
    "    print(d.eval())\n",
    "    print(res.eval())"
   ]
  },
  {
   "cell_type": "markdown",
   "metadata": {},
   "source": [
    "## Variables in TF"
   ]
  },
  {
   "cell_type": "code",
   "execution_count": 23,
   "metadata": {},
   "outputs": [
    {
     "name": "stdout",
     "output_type": "stream",
     "text": [
      "103\n",
      "1232\n",
      "1235\n"
     ]
    }
   ],
   "source": [
    "# Variables in Tensorflow\n",
    "# We need to explicitly initialize the variables in TF\n",
    "var1 = tf.Variable(100)\n",
    "var2 = tf.Variable(3)\n",
    "var3 = tf.add(var1, var2)\n",
    "sess = tf.Session()\n",
    "sess.run(tf.global_variables_initializer()) # init variables\n",
    "print(sess.run(var3))\n",
    "\n",
    "# Changing a variable value\n",
    "sess.run(var1.assign(1232))\n",
    "# Checking if changed\n",
    "print(sess.run(var1))\n",
    "print(sess.run(var3)) # Sum also changed"
   ]
  },
  {
   "cell_type": "markdown",
   "metadata": {},
   "source": [
    "## Placeholders\n",
    "Another way to store data in Tensorflow. Pass values of variables on calling run"
   ]
  },
  {
   "cell_type": "code",
   "execution_count": 27,
   "metadata": {},
   "outputs": [
    {
     "data": {
      "text/plain": [
       "120"
      ]
     },
     "execution_count": 27,
     "metadata": {},
     "output_type": "execute_result"
    }
   ],
   "source": [
    "x = tf.placeholder(tf.int32) # Creating a placeholder\n",
    "y = x * tf.constant(12)\n",
    "sess.run(y, feed_dict={x:10}) # pass value of placeholder"
   ]
  }
 ],
 "metadata": {
  "kernelspec": {
   "display_name": "Python 3",
   "language": "python",
   "name": "python3"
  },
  "language_info": {
   "codemirror_mode": {
    "name": "ipython",
    "version": 3
   },
   "file_extension": ".py",
   "mimetype": "text/x-python",
   "name": "python",
   "nbconvert_exporter": "python",
   "pygments_lexer": "ipython3",
   "version": "3.7.1"
  }
 },
 "nbformat": 4,
 "nbformat_minor": 2
}
