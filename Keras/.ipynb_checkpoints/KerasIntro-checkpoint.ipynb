{
 "cells": [
  {
   "cell_type": "code",
   "execution_count": 1,
   "metadata": {},
   "outputs": [
    {
     "name": "stderr",
     "output_type": "stream",
     "text": [
      "Using TensorFlow backend.\n"
     ]
    }
   ],
   "source": [
    "from keras.models import Sequential\n",
    "from keras.layers import Dense\n",
    "from sklearn import datasets\n",
    "from sklearn.model_selection import train_test_split"
   ]
  },
  {
   "cell_type": "code",
   "execution_count": 2,
   "metadata": {},
   "outputs": [],
   "source": [
    "# Create model\n",
    "model = Sequential()"
   ]
  },
  {
   "cell_type": "code",
   "execution_count": 3,
   "metadata": {},
   "outputs": [
    {
     "name": "stdout",
     "output_type": "stream",
     "text": [
      "WARNING:tensorflow:From C:\\Users\\sabee\\Anaconda3\\lib\\site-packages\\tensorflow\\python\\framework\\op_def_library.py:263: colocate_with (from tensorflow.python.framework.ops) is deprecated and will be removed in a future version.\n",
      "Instructions for updating:\n",
      "Colocations handled automatically by placer.\n"
     ]
    }
   ],
   "source": [
    "# Layers\n",
    "# For first layer we need to supply input dimension basically no of features of our dataset\n",
    "layer1 = Dense(units=32, activation='relu', input_dim=30)\n",
    "model.add(layer1)\n",
    "model.add(Dense(units=16, activation='relu')) # layer2\n",
    "model.add(Dense(units=1, activation='sigmoid')) # output layer only 1, since binary classification"
   ]
  },
  {
   "cell_type": "code",
   "execution_count": 4,
   "metadata": {},
   "outputs": [],
   "source": [
    "# Compiling - deciding optimizer, loss function, metrics\n",
    "model.compile(optimizer='adam', loss='binary_crossentropy', metrics=['accuracy'])"
   ]
  },
  {
   "cell_type": "code",
   "execution_count": 5,
   "metadata": {},
   "outputs": [],
   "source": [
    "# Fitting - passing x,y,iterations,batchsize,validation_data\n",
    "breast_cancer = datasets.load_breast_cancer()\n",
    "x = breast_cancer.data\n",
    "y = breast_cancer.target\n",
    "\n",
    "x_train, x_test, y_train, y_test = train_test_split(x, y, random_state=1)"
   ]
  },
  {
   "cell_type": "code",
   "execution_count": 6,
   "metadata": {},
   "outputs": [
    {
     "data": {
      "text/plain": [
       "((426, 30), (143, 30))"
      ]
     },
     "execution_count": 6,
     "metadata": {},
     "output_type": "execute_result"
    }
   ],
   "source": [
    "x_train.shape, x_test.shape"
   ]
  },
  {
   "cell_type": "code",
   "execution_count": 7,
   "metadata": {},
   "outputs": [],
   "source": [
    "from sklearn.preprocessing import StandardScaler\n",
    "ss = StandardScaler()\n",
    "x_train = ss.fit_transform(x_train)\n",
    "x_test = ss.transform(x_test)"
   ]
  },
  {
   "cell_type": "code",
   "execution_count": 8,
   "metadata": {},
   "outputs": [
    {
     "name": "stdout",
     "output_type": "stream",
     "text": [
      "WARNING:tensorflow:From C:\\Users\\sabee\\Anaconda3\\lib\\site-packages\\tensorflow\\python\\ops\\math_ops.py:3066: to_int32 (from tensorflow.python.ops.math_ops) is deprecated and will be removed in a future version.\n",
      "Instructions for updating:\n",
      "Use tf.cast instead.\n",
      "Train on 426 samples, validate on 143 samples\n",
      "Epoch 1/25\n",
      "426/426 [==============================] - 2s 5ms/step - loss: 0.6046 - acc: 0.6221 - val_loss: 0.5038 - val_acc: 0.8112\n",
      "Epoch 2/25\n",
      "426/426 [==============================] - 0s 51us/step - loss: 0.4494 - acc: 0.8592 - val_loss: 0.3955 - val_acc: 0.9021\n",
      "Epoch 3/25\n",
      "426/426 [==============================] - 0s 65us/step - loss: 0.3461 - acc: 0.9178 - val_loss: 0.3194 - val_acc: 0.9301\n",
      "Epoch 4/25\n",
      "426/426 [==============================] - 0s 62us/step - loss: 0.2733 - acc: 0.9366 - val_loss: 0.2650 - val_acc: 0.9441\n",
      "Epoch 5/25\n",
      "426/426 [==============================] - 0s 96us/step - loss: 0.2208 - acc: 0.9437 - val_loss: 0.2260 - val_acc: 0.9510\n",
      "Epoch 6/25\n",
      "426/426 [==============================] - 0s 75us/step - loss: 0.1831 - acc: 0.9507 - val_loss: 0.1984 - val_acc: 0.9510\n",
      "Epoch 7/25\n",
      "426/426 [==============================] - 0s 69us/step - loss: 0.1555 - acc: 0.9601 - val_loss: 0.1782 - val_acc: 0.9510\n",
      "Epoch 8/25\n",
      "426/426 [==============================] - 0s 56us/step - loss: 0.1342 - acc: 0.9624 - val_loss: 0.1627 - val_acc: 0.9510\n",
      "Epoch 9/25\n",
      "426/426 [==============================] - 0s 81us/step - loss: 0.1190 - acc: 0.9671 - val_loss: 0.1504 - val_acc: 0.9510\n",
      "Epoch 10/25\n",
      "426/426 [==============================] - 0s 59us/step - loss: 0.1060 - acc: 0.9718 - val_loss: 0.1411 - val_acc: 0.9510\n",
      "Epoch 11/25\n",
      "426/426 [==============================] - 0s 60us/step - loss: 0.0959 - acc: 0.9765 - val_loss: 0.1338 - val_acc: 0.9510\n",
      "Epoch 12/25\n",
      "426/426 [==============================] - 0s 59us/step - loss: 0.0880 - acc: 0.9812 - val_loss: 0.1273 - val_acc: 0.9510\n",
      "Epoch 13/25\n",
      "426/426 [==============================] - 0s 111us/step - loss: 0.0809 - acc: 0.9812 - val_loss: 0.1219 - val_acc: 0.9510\n",
      "Epoch 14/25\n",
      "426/426 [==============================] - 0s 55us/step - loss: 0.0756 - acc: 0.9836 - val_loss: 0.1176 - val_acc: 0.9510\n",
      "Epoch 15/25\n",
      "426/426 [==============================] - 0s 65us/step - loss: 0.0714 - acc: 0.9836 - val_loss: 0.1146 - val_acc: 0.9510\n",
      "Epoch 16/25\n",
      "426/426 [==============================] - 0s 51us/step - loss: 0.0673 - acc: 0.9836 - val_loss: 0.1123 - val_acc: 0.9580\n",
      "Epoch 17/25\n",
      "426/426 [==============================] - 0s 46us/step - loss: 0.0641 - acc: 0.9836 - val_loss: 0.1106 - val_acc: 0.9580\n",
      "Epoch 18/25\n",
      "426/426 [==============================] - 0s 55us/step - loss: 0.0610 - acc: 0.9836 - val_loss: 0.1089 - val_acc: 0.9580\n",
      "Epoch 19/25\n",
      "426/426 [==============================] - 0s 55us/step - loss: 0.0584 - acc: 0.9859 - val_loss: 0.1074 - val_acc: 0.9650\n",
      "Epoch 20/25\n",
      "426/426 [==============================] - 0s 61us/step - loss: 0.0559 - acc: 0.9859 - val_loss: 0.1066 - val_acc: 0.9650\n",
      "Epoch 21/25\n",
      "426/426 [==============================] - 0s 63us/step - loss: 0.0537 - acc: 0.9859 - val_loss: 0.1049 - val_acc: 0.9650\n",
      "Epoch 22/25\n",
      "426/426 [==============================] - 0s 64us/step - loss: 0.0515 - acc: 0.9859 - val_loss: 0.1032 - val_acc: 0.9650\n",
      "Epoch 23/25\n",
      "426/426 [==============================] - 0s 52us/step - loss: 0.0499 - acc: 0.9859 - val_loss: 0.1012 - val_acc: 0.9650\n",
      "Epoch 24/25\n",
      "426/426 [==============================] - 0s 66us/step - loss: 0.0481 - acc: 0.9859 - val_loss: 0.1004 - val_acc: 0.9650\n",
      "Epoch 25/25\n",
      "426/426 [==============================] - 0s 68us/step - loss: 0.0467 - acc: 0.9859 - val_loss: 0.0996 - val_acc: 0.9650\n"
     ]
    },
    {
     "data": {
      "text/plain": [
       "<keras.callbacks.History at 0x29fbcc3b630>"
      ]
     },
     "execution_count": 8,
     "metadata": {},
     "output_type": "execute_result"
    }
   ],
   "source": [
    "model.fit(x_train, y_train, epochs=25, batch_size=50, validation_data=(x_test, y_test))"
   ]
  },
  {
   "cell_type": "code",
   "execution_count": null,
   "metadata": {},
   "outputs": [],
   "source": [
    "# Evaluations and predictions\n"
   ]
  }
 ],
 "metadata": {
  "kernelspec": {
   "display_name": "Python 3",
   "language": "python",
   "name": "python3"
  },
  "language_info": {
   "codemirror_mode": {
    "name": "ipython",
    "version": 3
   },
   "file_extension": ".py",
   "mimetype": "text/x-python",
   "name": "python",
   "nbconvert_exporter": "python",
   "pygments_lexer": "ipython3",
   "version": "3.6.8"
  }
 },
 "nbformat": 4,
 "nbformat_minor": 2
}
