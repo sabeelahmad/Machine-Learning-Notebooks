{
 "cells": [
  {
   "cell_type": "code",
   "execution_count": 1,
   "metadata": {},
   "outputs": [
    {
     "name": "stderr",
     "output_type": "stream",
     "text": [
      "Using TensorFlow backend.\n"
     ]
    }
   ],
   "source": [
    "from keras.models import Sequential\n",
    "from keras.layers import Dense\n",
    "from sklearn import datasets\n",
    "from sklearn.model_selection import train_test_split"
   ]
  },
  {
   "cell_type": "code",
   "execution_count": 2,
   "metadata": {},
   "outputs": [],
   "source": [
    "# Create model\n",
    "model = Sequential()"
   ]
  },
  {
   "cell_type": "code",
   "execution_count": 3,
   "metadata": {},
   "outputs": [
    {
     "name": "stdout",
     "output_type": "stream",
     "text": [
      "WARNING:tensorflow:From C:\\Users\\sabee\\Anaconda3\\lib\\site-packages\\tensorflow\\python\\framework\\op_def_library.py:263: colocate_with (from tensorflow.python.framework.ops) is deprecated and will be removed in a future version.\n",
      "Instructions for updating:\n",
      "Colocations handled automatically by placer.\n"
     ]
    }
   ],
   "source": [
    "# Layers\n",
    "# For first layer we need to supply input dimension basically no of features of our dataset\n",
    "layer1 = Dense(units=32, activation='relu', input_dim=30)\n",
    "model.add(layer1)\n",
    "model.add(Dense(units=16, activation='relu')) # layer2\n",
    "model.add(Dense(units=1, activation='sigmoid')) # output layer only 1, since binary classification"
   ]
  },
  {
   "cell_type": "code",
   "execution_count": 4,
   "metadata": {},
   "outputs": [],
   "source": [
    "# Compiling - deciding optimizer, loss function, metrics\n",
    "model.compile(optimizer='adam', loss='binary_crossentropy', metrics=['accuracy'])"
   ]
  },
  {
   "cell_type": "code",
   "execution_count": 5,
   "metadata": {},
   "outputs": [],
   "source": [
    "# Fitting - passing x,y,iterations,batchsize,validation_data\n",
    "breast_cancer = datasets.load_breast_cancer()\n",
    "x = breast_cancer.data\n",
    "y = breast_cancer.target\n",
    "\n",
    "x_train, x_test, y_train, y_test = train_test_split(x, y, random_state=1)"
   ]
  },
  {
   "cell_type": "code",
   "execution_count": 6,
   "metadata": {},
   "outputs": [
    {
     "data": {
      "text/plain": [
       "((426, 30), (143, 30))"
      ]
     },
     "execution_count": 6,
     "metadata": {},
     "output_type": "execute_result"
    }
   ],
   "source": [
    "x_train.shape, x_test.shape"
   ]
  },
  {
   "cell_type": "code",
   "execution_count": 7,
   "metadata": {},
   "outputs": [],
   "source": [
    "from sklearn.preprocessing import StandardScaler\n",
    "ss = StandardScaler()\n",
    "x_train = ss.fit_transform(x_train)\n",
    "x_test = ss.transform(x_test)"
   ]
  },
  {
   "cell_type": "code",
   "execution_count": 8,
   "metadata": {},
   "outputs": [
    {
     "name": "stdout",
     "output_type": "stream",
     "text": [
      "WARNING:tensorflow:From C:\\Users\\sabee\\Anaconda3\\lib\\site-packages\\tensorflow\\python\\ops\\math_ops.py:3066: to_int32 (from tensorflow.python.ops.math_ops) is deprecated and will be removed in a future version.\n",
      "Instructions for updating:\n",
      "Use tf.cast instead.\n",
      "Train on 426 samples, validate on 143 samples\n",
      "Epoch 1/25\n",
      "426/426 [==============================] - 2s 5ms/step - loss: 0.6046 - acc: 0.6221 - val_loss: 0.5038 - val_acc: 0.8112\n",
      "Epoch 2/25\n",
      "426/426 [==============================] - 0s 51us/step - loss: 0.4494 - acc: 0.8592 - val_loss: 0.3955 - val_acc: 0.9021\n",
      "Epoch 3/25\n",
      "426/426 [==============================] - 0s 65us/step - loss: 0.3461 - acc: 0.9178 - val_loss: 0.3194 - val_acc: 0.9301\n",
      "Epoch 4/25\n",
      "426/426 [==============================] - 0s 62us/step - loss: 0.2733 - acc: 0.9366 - val_loss: 0.2650 - val_acc: 0.9441\n",
      "Epoch 5/25\n",
      "426/426 [==============================] - 0s 96us/step - loss: 0.2208 - acc: 0.9437 - val_loss: 0.2260 - val_acc: 0.9510\n",
      "Epoch 6/25\n",
      "426/426 [==============================] - 0s 75us/step - loss: 0.1831 - acc: 0.9507 - val_loss: 0.1984 - val_acc: 0.9510\n",
      "Epoch 7/25\n",
      "426/426 [==============================] - 0s 69us/step - loss: 0.1555 - acc: 0.9601 - val_loss: 0.1782 - val_acc: 0.9510\n",
      "Epoch 8/25\n",
      "426/426 [==============================] - 0s 56us/step - loss: 0.1342 - acc: 0.9624 - val_loss: 0.1627 - val_acc: 0.9510\n",
      "Epoch 9/25\n",
      "426/426 [==============================] - 0s 81us/step - loss: 0.1190 - acc: 0.9671 - val_loss: 0.1504 - val_acc: 0.9510\n",
      "Epoch 10/25\n",
      "426/426 [==============================] - 0s 59us/step - loss: 0.1060 - acc: 0.9718 - val_loss: 0.1411 - val_acc: 0.9510\n",
      "Epoch 11/25\n",
      "426/426 [==============================] - 0s 60us/step - loss: 0.0959 - acc: 0.9765 - val_loss: 0.1338 - val_acc: 0.9510\n",
      "Epoch 12/25\n",
      "426/426 [==============================] - 0s 59us/step - loss: 0.0880 - acc: 0.9812 - val_loss: 0.1273 - val_acc: 0.9510\n",
      "Epoch 13/25\n",
      "426/426 [==============================] - 0s 111us/step - loss: 0.0809 - acc: 0.9812 - val_loss: 0.1219 - val_acc: 0.9510\n",
      "Epoch 14/25\n",
      "426/426 [==============================] - 0s 55us/step - loss: 0.0756 - acc: 0.9836 - val_loss: 0.1176 - val_acc: 0.9510\n",
      "Epoch 15/25\n",
      "426/426 [==============================] - 0s 65us/step - loss: 0.0714 - acc: 0.9836 - val_loss: 0.1146 - val_acc: 0.9510\n",
      "Epoch 16/25\n",
      "426/426 [==============================] - 0s 51us/step - loss: 0.0673 - acc: 0.9836 - val_loss: 0.1123 - val_acc: 0.9580\n",
      "Epoch 17/25\n",
      "426/426 [==============================] - 0s 46us/step - loss: 0.0641 - acc: 0.9836 - val_loss: 0.1106 - val_acc: 0.9580\n",
      "Epoch 18/25\n",
      "426/426 [==============================] - 0s 55us/step - loss: 0.0610 - acc: 0.9836 - val_loss: 0.1089 - val_acc: 0.9580\n",
      "Epoch 19/25\n",
      "426/426 [==============================] - 0s 55us/step - loss: 0.0584 - acc: 0.9859 - val_loss: 0.1074 - val_acc: 0.9650\n",
      "Epoch 20/25\n",
      "426/426 [==============================] - 0s 61us/step - loss: 0.0559 - acc: 0.9859 - val_loss: 0.1066 - val_acc: 0.9650\n",
      "Epoch 21/25\n",
      "426/426 [==============================] - 0s 63us/step - loss: 0.0537 - acc: 0.9859 - val_loss: 0.1049 - val_acc: 0.9650\n",
      "Epoch 22/25\n",
      "426/426 [==============================] - 0s 64us/step - loss: 0.0515 - acc: 0.9859 - val_loss: 0.1032 - val_acc: 0.9650\n",
      "Epoch 23/25\n",
      "426/426 [==============================] - 0s 52us/step - loss: 0.0499 - acc: 0.9859 - val_loss: 0.1012 - val_acc: 0.9650\n",
      "Epoch 24/25\n",
      "426/426 [==============================] - 0s 66us/step - loss: 0.0481 - acc: 0.9859 - val_loss: 0.1004 - val_acc: 0.9650\n",
      "Epoch 25/25\n",
      "426/426 [==============================] - 0s 68us/step - loss: 0.0467 - acc: 0.9859 - val_loss: 0.0996 - val_acc: 0.9650\n"
     ]
    },
    {
     "data": {
      "text/plain": [
       "<keras.callbacks.History at 0x29fbcc3b630>"
      ]
     },
     "execution_count": 8,
     "metadata": {},
     "output_type": "execute_result"
    }
   ],
   "source": [
    "model.fit(x_train, y_train, epochs=25, batch_size=50, validation_data=(x_test, y_test))"
   ]
  },
  {
   "cell_type": "code",
   "execution_count": 9,
   "metadata": {},
   "outputs": [
    {
     "data": {
      "text/plain": [
       "array([[8.3600426e-01],\n",
       "       [4.9356222e-03],\n",
       "       [9.8837721e-01],\n",
       "       [2.5480986e-03],\n",
       "       [3.6981404e-01],\n",
       "       [2.7958751e-03],\n",
       "       [2.8849542e-03],\n",
       "       [3.0366918e-01],\n",
       "       [9.9854219e-01],\n",
       "       [9.3472207e-01],\n",
       "       [9.9839604e-01],\n",
       "       [6.5775216e-03],\n",
       "       [6.0251951e-03],\n",
       "       [9.9852890e-01],\n",
       "       [7.6525283e-01],\n",
       "       [9.1065037e-01],\n",
       "       [9.9899679e-01],\n",
       "       [9.8996842e-01],\n",
       "       [9.9945378e-01],\n",
       "       [1.0122359e-03],\n",
       "       [9.9470162e-01],\n",
       "       [9.9843776e-01],\n",
       "       [1.6072392e-04],\n",
       "       [9.8458898e-01],\n",
       "       [5.8263540e-03],\n",
       "       [9.9726659e-01],\n",
       "       [9.2857492e-01],\n",
       "       [2.2855401e-04],\n",
       "       [0.0000000e+00],\n",
       "       [2.5559932e-02],\n",
       "       [4.6789646e-06],\n",
       "       [9.9904579e-01],\n",
       "       [9.4056129e-05],\n",
       "       [1.5948206e-02],\n",
       "       [9.9973953e-01],\n",
       "       [9.9603373e-01],\n",
       "       [1.2663603e-02],\n",
       "       [9.2247188e-01],\n",
       "       [7.5786638e-01],\n",
       "       [9.9459124e-01],\n",
       "       [9.9955630e-01],\n",
       "       [8.8010049e-01],\n",
       "       [9.5945215e-01],\n",
       "       [9.9875712e-01],\n",
       "       [9.8388755e-01],\n",
       "       [3.0847788e-03],\n",
       "       [9.9997532e-01],\n",
       "       [9.9996758e-01],\n",
       "       [9.7666955e-01],\n",
       "       [4.5729578e-02],\n",
       "       [2.1225214e-03],\n",
       "       [1.1026859e-06],\n",
       "       [9.8130238e-01],\n",
       "       [9.9943507e-01],\n",
       "       [9.9899548e-01],\n",
       "       [9.9811339e-01],\n",
       "       [9.9761379e-01],\n",
       "       [1.6063720e-02],\n",
       "       [9.9673772e-01],\n",
       "       [9.9988627e-01],\n",
       "       [9.9988985e-01],\n",
       "       [4.7892332e-05],\n",
       "       [9.5143187e-01],\n",
       "       [9.8821151e-01],\n",
       "       [9.9883795e-01],\n",
       "       [9.9369287e-01],\n",
       "       [9.9879104e-01],\n",
       "       [5.4746866e-05],\n",
       "       [9.9921930e-01],\n",
       "       [9.9821270e-01],\n",
       "       [9.9969023e-01],\n",
       "       [9.9691188e-01],\n",
       "       [9.4306445e-01],\n",
       "       [3.3676624e-05],\n",
       "       [9.9981439e-01],\n",
       "       [6.5356493e-05],\n",
       "       [7.1802920e-01],\n",
       "       [9.7317338e-01],\n",
       "       [9.9885297e-01],\n",
       "       [2.5680661e-04],\n",
       "       [9.9883282e-01],\n",
       "       [8.9445710e-04],\n",
       "       [9.9953383e-01],\n",
       "       [5.3912401e-05],\n",
       "       [9.9583697e-01],\n",
       "       [9.9974525e-01],\n",
       "       [1.9482851e-02],\n",
       "       [9.6325088e-01],\n",
       "       [2.0945072e-03],\n",
       "       [9.9622023e-01],\n",
       "       [9.8670799e-01],\n",
       "       [1.5797645e-02],\n",
       "       [9.9903250e-01],\n",
       "       [9.9998820e-01],\n",
       "       [2.2053719e-06],\n",
       "       [7.5767308e-02],\n",
       "       [9.9998790e-01],\n",
       "       [9.0799469e-01],\n",
       "       [9.9880677e-01],\n",
       "       [9.9829233e-01],\n",
       "       [9.9469054e-01],\n",
       "       [9.9851680e-01],\n",
       "       [9.9991840e-01],\n",
       "       [9.2383069e-01],\n",
       "       [9.8006171e-01],\n",
       "       [9.8478287e-01],\n",
       "       [9.9989414e-01],\n",
       "       [9.9716032e-01],\n",
       "       [5.8049262e-03],\n",
       "       [1.1118472e-02],\n",
       "       [1.8712878e-03],\n",
       "       [9.9754333e-01],\n",
       "       [9.4543123e-01],\n",
       "       [9.9680167e-01],\n",
       "       [6.2668324e-04],\n",
       "       [8.7717175e-04],\n",
       "       [9.9999392e-01],\n",
       "       [9.9887776e-01],\n",
       "       [9.9871379e-01],\n",
       "       [9.7197568e-01],\n",
       "       [9.6658766e-01],\n",
       "       [1.9007921e-04],\n",
       "       [1.5139580e-05],\n",
       "       [9.8054087e-01],\n",
       "       [9.9013841e-01],\n",
       "       [0.0000000e+00],\n",
       "       [3.9634109e-04],\n",
       "       [6.5201390e-01],\n",
       "       [4.1723251e-07],\n",
       "       [1.4901161e-07],\n",
       "       [9.8994720e-01],\n",
       "       [9.3337971e-01],\n",
       "       [9.9930668e-01],\n",
       "       [3.7252903e-06],\n",
       "       [9.9994791e-01],\n",
       "       [1.3271570e-03],\n",
       "       [2.9366910e-03],\n",
       "       [8.4913003e-01],\n",
       "       [9.9854338e-01],\n",
       "       [3.1643906e-01],\n",
       "       [4.1457874e-01],\n",
       "       [1.8334699e-04],\n",
       "       [9.9739671e-01]], dtype=float32)"
      ]
     },
     "execution_count": 9,
     "metadata": {},
     "output_type": "execute_result"
    }
   ],
   "source": [
    "# Evaluations and predictions\n",
    "predictions = model.predict(x_test)\n",
    "predictions"
   ]
  },
  {
   "cell_type": "code",
   "execution_count": 10,
   "metadata": {},
   "outputs": [
    {
     "name": "stdout",
     "output_type": "stream",
     "text": [
      "143/143 [==============================] - 0s 49us/step\n"
     ]
    },
    {
     "data": {
      "text/plain": [
       "[0.09956091027576607, 0.9650349654517807]"
      ]
     },
     "execution_count": 10,
     "metadata": {},
     "output_type": "execute_result"
    }
   ],
   "source": [
    "score = model.evaluate(x_test, y_test) \n",
    "score"
   ]
  }
 ],
 "metadata": {
  "kernelspec": {
   "display_name": "Python 3",
   "language": "python",
   "name": "python3"
  },
  "language_info": {
   "codemirror_mode": {
    "name": "ipython",
    "version": 3
   },
   "file_extension": ".py",
   "mimetype": "text/x-python",
   "name": "python",
   "nbconvert_exporter": "python",
   "pygments_lexer": "ipython3",
   "version": "3.6.8"
  }
 },
 "nbformat": 4,
 "nbformat_minor": 2
}
